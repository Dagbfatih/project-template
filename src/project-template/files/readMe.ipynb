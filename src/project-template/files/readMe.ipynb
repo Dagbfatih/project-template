{
 "cells": [
  {
   "cell_type": "code",
   "execution_count": null,
   "metadata": {
    "dotnet_interactive": {
     "language": "javascript"
    },
    "polyglot_notebook": {
     "kernelName": "javascript"
    }
   },
   "outputs": [],
   "source": [
    "1.  Package.json\n",
    "\n",
    "    // Add these codes to -> package.json\n",
    "\n",
    "   \n",
    "    \"@auth0/angular-jwt\": \"^5.1.2\",\n",
    "    \"@fortawesome/angular-fontawesome\": \"^0.10.2\",\n",
    "    \"@fortawesome/fontawesome-common-types\": \"^6.2.1\",\n",
    "    \"@fortawesome/fontawesome-svg-core\": \"^6.2.1\",\n",
    "    \"@fortawesome/free-brands-svg-icons\": \"^6.2.1\",\n",
    "    \"@fortawesome/free-regular-svg-icons\": \"^6.2.1\",\n",
    "    \"@fortawesome/free-solid-svg-icons\": \"^6.2.1\",\n",
    "    \"@ng-bootstrap/ng-bootstrap\": \"^12.1.2\",\n",
    "    \"@schematics/angular\": \"^9.1.0\",\n",
    "    \"@ngx-translate/core\": \"^14.0.0\",\n",
    "    \"@ngx-translate/http-loader\": \"^7.0.0\",\n",
    "    \"@popperjs/core\": \"^2.11.8\",\n",
    "    \"bootstrap\": \"^5.3.0\",\n",
    "    \"jquery\": \"^3.7.0\",\n",
    "    \"ngx-file-drop\": \"^13.0.0\",\n",
    "    \"ngx-toastr\": \"^14.3.0\",\n",
    "    \n",
    "\n",
    "    // And run this command ```npm i```\n",
    "    // And run npm i ```--save-dev @types/jquery```"
   ]
  },
  {
   "attachments": {},
   "cell_type": "markdown",
   "metadata": {},
   "source": [
    "2.  Move **app/environments** folder to **src/environments**"
   ]
  },
  {
   "cell_type": "markdown",
   "metadata": {},
   "source": [
    "3.  Add these codes to **index.html** files:"
   ]
  },
  {
   "cell_type": "code",
   "execution_count": null,
   "metadata": {
    "dotnet_interactive": {
     "language": "javascript"
    },
    "polyglot_notebook": {
     "kernelName": "javascript"
    }
   },
   "outputs": [],
   "source": [
    "// index.html/head imports:\n",
    "        <link href=\"https://cdn.jsdelivr.net/npm/bootstrap@5.3.0/dist/css/bootstrap.min.css\" rel=\"stylesheet\"             integrity=\"sha384-9ndCyUaIbzAi2FUVXJi0CjmCapSmO7SnpJef0486qhLnuZ2cdeRhO02iuK6FUUVM\" crossorigin=\"anonymous\">"
   ]
  },
  {
   "cell_type": "code",
   "execution_count": null,
   "metadata": {
    "dotnet_interactive": {
     "language": "javascript"
    },
    "polyglot_notebook": {
     "kernelName": "javascript"
    }
   },
   "outputs": [],
   "source": [
    "// index.html/body imports:\n",
    "    <script src=\"https://cdn.jsdelivr.net/npm/@popperjs/core@2.11.8/dist/umd/popper.min.js\" integrity=\"sha384-I7E8VVD/ismYTF4hNIPjVp/Zjvgyol6VFvRkX/vR+Vc4jQkC+hVqc2pM8ODewa9r\" crossorigin=\"anonymous\"></script>\n",
    "    <script src=\"https://cdn.jsdelivr.net/npm/bootstrap@5.3.0/dist/js/bootstrap.min.js\" integrity=\"sha384-fbbOQedDUMZZ5KreZpsbe1LCZPVmfTnH7ois6mU1QK+m14rQ1l2bGBq41eYeM/fS\" crossorigin=\"anonymous\"></script>"
   ]
  },
  {
   "cell_type": "markdown",
   "metadata": {},
   "source": [
    "4.  Add these codes to **angular.json** file "
   ]
  },
  {
   "cell_type": "code",
   "execution_count": null,
   "metadata": {
    "dotnet_interactive": {
     "language": "javascript"
    },
    "polyglot_notebook": {
     "kernelName": "javascript"
    }
   },
   "outputs": [],
   "source": [
    "// Add to \"Styles\" block --> \n",
    "\n",
    "\"./node_modules/ngx-toastr/toastr.css\"\n",
    "\n",
    "\n",
    "// Add to \"Scripts\" block --> \n",
    "\n",
    "\"./node_modules/jquery/dist/jquery.min.js\"\n"
   ]
  },
  {
   "cell_type": "markdown",
   "metadata": {},
   "source": [
    "5. İmport css codes to global **styles.css** file"
   ]
  },
  {
   "cell_type": "code",
   "execution_count": null,
   "metadata": {
    "dotnet_interactive": {
     "language": "javascript"
    },
    "polyglot_notebook": {
     "kernelName": "javascript"
    }
   },
   "outputs": [],
   "source": [
    "\n",
    "@import url(\"./app/styles/mystyle.css\");\n"
   ]
  },
  {
   "cell_type": "markdown",
   "metadata": {},
   "source": [
    "6. Add this code to **tsconfig.json**:"
   ]
  },
  {
   "cell_type": "code",
   "execution_count": null,
   "metadata": {
    "dotnet_interactive": {
     "language": "csharp"
    },
    "polyglot_notebook": {
     "kernelName": "csharp"
    }
   },
   "outputs": [],
   "source": [
    "\"compilerOptions\": {\n",
    "    \"strictPropertyInitialization\": false,\n",
    "    ...\n",
    "}"
   ]
  },
  {
   "cell_type": "markdown",
   "metadata": {},
   "source": [
    "7.  **admin credentials**:\n",
    "\n",
    "        email -> admin@admin.com\n",
    "        password -> MySuperSecretKey123\n"
   ]
  }
 ],
 "metadata": {
  "kernelspec": {
   "display_name": ".NET (C#)",
   "language": "C#",
   "name": ".net-csharp"
  },
  "language_info": {
   "name": "polyglot-notebook"
  },
  "polyglot_notebook": {
   "kernelInfo": {
    "defaultKernelName": "csharp",
    "items": [
     {
      "aliases": [],
      "languageName": "csharp",
      "name": "csharp"
     }
    ]
   }
  }
 },
 "nbformat": 4,
 "nbformat_minor": 2
}
