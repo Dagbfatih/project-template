{
 "cells": [
  {
   "cell_type": "markdown",
   "metadata": {},
   "source": [
    "1.  Add these codes to Package.json"
   ]
  },
  {
   "cell_type": "code",
   "execution_count": null,
   "metadata": {
    "dotnet_interactive": {
     "language": "javascript"
    },
    "polyglot_notebook": {
     "kernelName": "javascript"
    }
   },
   "outputs": [],
   "source": [
    "// Add these codes to -> package.json\n",
    "   \n",
    "    \"@auth0/angular-jwt\": \"^5.1.2\",\n",
    "    \"@fortawesome/angular-fontawesome\": \"^0.10.2\",\n",
    "    \"@fortawesome/fontawesome-common-types\": \"^6.2.1\",\n",
    "    \"@fortawesome/fontawesome-svg-core\": \"^6.2.1\",\n",
    "    \"@fortawesome/free-brands-svg-icons\": \"^6.2.1\",\n",
    "    \"@fortawesome/free-regular-svg-icons\": \"^6.2.1\",\n",
    "    \"@fortawesome/free-solid-svg-icons\": \"^6.2.1\",\n",
    "    \"@ng-bootstrap/ng-bootstrap\": \"^12.1.2\",\n",
    "    \"@schematics/angular\": \"^9.1.0\",\n",
    "    \"@ngx-translate/core\": \"^14.0.0\",\n",
    "    \"@ngx-translate/http-loader\": \"^7.0.0\",\n",
    "    \"@popperjs/core\": \"^2.11.8\",\n",
    "    \"bootstrap\": \"^5.3.0\",\n",
    "    \"jquery\": \"^3.7.0\",\n",
    "    \"ngx-file-drop\": \"^13.0.0\",\n",
    "    \"ngx-toastr\": \"^14.3.0\","
   ]
  },
  {
   "cell_type": "markdown",
   "metadata": {},
   "source": [
    "And run this commands:"
   ]
  },
  {
   "cell_type": "code",
   "execution_count": null,
   "metadata": {
    "dotnet_interactive": {
     "language": "pwsh"
    },
    "polyglot_notebook": {
     "kernelName": "pwsh"
    }
   },
   "outputs": [],
   "source": [
    "\n",
    "\n",
    "npm i\n",
    "npm i --save-dev @types/jquery"
   ]
  },
  {
   "attachments": {},
   "cell_type": "markdown",
   "metadata": {},
   "source": [
    "2.  Move **app/environments** folder to **src/environments**. After, delete **app/environments** folder"
   ]
  },
  {
   "cell_type": "markdown",
   "metadata": {},
   "source": [
    "3.  Add these codes to **index.html** files:"
   ]
  },
  {
   "cell_type": "code",
   "execution_count": null,
   "metadata": {
    "dotnet_interactive": {
     "language": "javascript"
    },
    "polyglot_notebook": {
     "kernelName": "javascript"
    }
   },
   "outputs": [],
   "source": [
    "// index.html/head imports:\n",
    "<link href=\"https://cdn.jsdelivr.net/npm/bootstrap@5.3.0/dist/css/bootstrap.min.css\" rel=\"stylesheet\"\n",
    "integrity=\"sha384-9ndCyUaIbzAi2FUVXJi0CjmCapSmO7SnpJef0486qhLnuZ2cdeRhO02iuK6FUUVM\" crossorigin=\"anonymous\">"
   ]
  },
  {
   "cell_type": "code",
   "execution_count": null,
   "metadata": {
    "dotnet_interactive": {
     "language": "javascript"
    },
    "polyglot_notebook": {
     "kernelName": "javascript"
    }
   },
   "outputs": [],
   "source": [
    "// index.html/body imports:\n",
    "<script src=\"https://cdn.jsdelivr.net/npm/@popperjs/core@2.11.8/dist/umd/popper.min.js\"\n",
    "integrity=\"sha384-I7E8VVD/ismYTF4hNIPjVp/Zjvgyol6VFvRkX/vR+Vc4jQkC+hVqc2pM8ODewa9r\"\n",
    "crossorigin=\"anonymous\"></script>\n",
    "<script src=\"https://cdn.jsdelivr.net/npm/bootstrap@5.3.0/dist/js/bootstrap.min.js\"\n",
    "integrity=\"sha384-fbbOQedDUMZZ5KreZpsbe1LCZPVmfTnH7ois6mU1QK+m14rQ1l2bGBq41eYeM/fS\"\n",
    "crossorigin=\"anonymous\"></script>"
   ]
  },
  {
   "cell_type": "markdown",
   "metadata": {},
   "source": [
    "4.  Add these codes to **angular.json** file "
   ]
  },
  {
   "cell_type": "code",
   "execution_count": null,
   "metadata": {
    "dotnet_interactive": {
     "language": "javascript"
    },
    "polyglot_notebook": {
     "kernelName": "javascript"
    }
   },
   "outputs": [],
   "source": [
    "// Add to \"Styles\" block --> \n",
    "\n",
    "\"./node_modules/ngx-toastr/toastr.css\"\n",
    "\n",
    "\n",
    "// Add to \"Scripts\" block --> \n",
    "\n",
    "\"./node_modules/jquery/dist/jquery.min.js\"\n"
   ]
  },
  {
   "cell_type": "markdown",
   "metadata": {},
   "source": [
    "5. İmport css codes to global **styles.css** file"
   ]
  },
  {
   "cell_type": "code",
   "execution_count": null,
   "metadata": {
    "dotnet_interactive": {
     "language": "javascript"
    },
    "polyglot_notebook": {
     "kernelName": "javascript"
    }
   },
   "outputs": [],
   "source": [
    "\n",
    "@import url(\"./app/styles/mystyle.css\");\n"
   ]
  },
  {
   "cell_type": "markdown",
   "metadata": {},
   "source": [
    "6. Add this code to **tsconfig.json**:"
   ]
  },
  {
   "cell_type": "code",
   "execution_count": null,
   "metadata": {
    "dotnet_interactive": {
     "language": "csharp"
    },
    "polyglot_notebook": {
     "kernelName": "csharp"
    }
   },
   "outputs": [],
   "source": [
    "\"compilerOptions\": {\n",
    "    \"strictPropertyInitialization\": false,\n",
    "    ...\n",
    "}"
   ]
  },
  {
   "cell_type": "markdown",
   "metadata": {},
   "source": [
    "7. Move **app/images** folder to **src/assets** folder"
   ]
  },
  {
   "cell_type": "markdown",
   "metadata": {},
   "source": [
    "### DONE !!!\n",
    "So you can start your project. Run:"
   ]
  },
  {
   "cell_type": "code",
   "execution_count": null,
   "metadata": {
    "dotnet_interactive": {
     "language": "pwsh"
    },
    "polyglot_notebook": {
     "kernelName": "pwsh"
    }
   },
   "outputs": [],
   "source": [
    "ng serve --open"
   ]
  },
  {
   "cell_type": "markdown",
   "metadata": {},
   "source": [
    "### USAGE NOTES\n",
    "\n",
    "\n",
    " **Admin credentials**:\n",
    "\n",
    "        email -> admin@admin.com\n",
    "        password -> MySuperSecretKey123\n"
   ]
  }
 ],
 "metadata": {
  "kernelspec": {
   "display_name": ".NET (C#)",
   "language": "C#",
   "name": ".net-csharp"
  },
  "language_info": {
   "name": "polyglot-notebook"
  },
  "polyglot_notebook": {
   "kernelInfo": {
    "defaultKernelName": "csharp",
    "items": [
     {
      "aliases": [],
      "languageName": "csharp",
      "name": "csharp"
     }
    ]
   }
  }
 },
 "nbformat": 4,
 "nbformat_minor": 2
}
